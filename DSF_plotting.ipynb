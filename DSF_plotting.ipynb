{
 "cells": [
  {
   "cell_type": "markdown",
   "metadata": {},
   "source": [
    "Plotting differential scanning fluorimetry (DSF) plots to visualize raw data exported from qPCR machine"
   ]
  },
  {
   "cell_type": "code",
   "execution_count": null,
   "metadata": {},
   "outputs": [],
   "source": [
    "#set python environment to micromamba imaging_env - has the general plotting and data analysis packages we will need\n",
    "\n",
    "import matplotlib.pyplot as plt\n",
    "import seaborn as sns\n",
    "import pandas as pd\n"
   ]
  },
  {
   "cell_type": "markdown",
   "metadata": {},
   "source": [
    "On qPCR machine's CFX Maestro software, export all data sheets to CSV\n",
    "\n",
    "You will get 8 data sheets, all with the file name and a title of the type of datasheet each one is\n",
    "We only need two of these, titles are:\n",
    "- Melt Curve RFU Results_FRET.csv \n",
    "- Melt Curve Derivative Results_FRET.csv \n",
    "\n",
    "Copy these to a new folder to keep all your analysis materials in. Suggest giving them shorter names like this:\n",
    "- experimentID_RFU.csv\n",
    "- experimentID_derivative.csv\n",
    "\n",
    "Also make a CSV file with all of your assay and buffer information. Suggest these columns:\n",
    "- <b>Well:</b> well id for each sample (string)\n",
    "- <b>protein_mgmL:</b> protein concentration in mg/mL (value)\n",
    "- <b>protein:</b> Name of protein used (string)\n",
    "- <b>buffer_mM:</b> concentration of buffer in mM (value)\n",
    "- <b>buffer:</b> ID of buffer (string)\n",
    "- <b>pH:</b> pH of buffer (value)\n",
    "- <b>salt_mM:</b> concentration of salt (value)\n",
    "- <b>salt:</b> ID of salt (string)\n",
    "<br>Add additional columns if experiment includes other components in the buffer, like divalent cations, etc\n",
    "\n",
    "In your analysis folder you should have three CSV files\n",
    "- experimentID_RFU.csv\n",
    "- experimentID_derivative.csv\n",
    "- experimentID_buffers.csv\n"
   ]
  },
  {
   "cell_type": "code",
   "execution_count": null,
   "metadata": {},
   "outputs": [],
   "source": [
    "#Import data and bufer information here.\n",
    "#Copy and paste pathname of the corresponding file into the ''\n",
    "\n",
    "#import DSF relative fluorescence units (RFU) data: \n",
    "DSF_data = pd.read_csv('/path/to/data/experimentID_RFU.csv')\n",
    "\n",
    "#Import Derivative data:\n",
    "DSF_neg_derivative = pd.read_csv('/path/to/data/experimentID_derivative.csv')\n",
    "\n",
    "#load buffer information:\n",
    "buffers = pd.read_csv('/path/to/buffer_info/experimentID_buffers.csv')"
   ]
  },
  {
   "cell_type": "markdown",
   "metadata": {},
   "source": [
    "Next steps will convert the data to long form and combine everything into one large dataframe. \n",
    "<br><br>This will also save the dataframe as a new .csv file in your folder.\n",
    "<br>Don't forget to give the resulting file a name in the next cell:"
   ]
  },
  {
   "cell_type": "code",
   "execution_count": null,
   "metadata": {},
   "outputs": [],
   "source": [
    "#filename for resulting .csv file when everything is combined after next cell is run:\n",
    "result_filename = \"DSF_data_combined.csv\" "
   ]
  },
  {
   "cell_type": "code",
   "execution_count": null,
   "metadata": {},
   "outputs": [],
   "source": [
    "#Convert RFU data to long-form:\n",
    "\n",
    "#change index to temperature column\n",
    "DSF_index = DSF_data.set_index('Temperature');\n",
    "\n",
    "#file exported from qPCR machine includes a blank column, use this to delete it\n",
    "DSF_data_wide = DSF_index.drop(columns='Unnamed: 0');\n",
    "\n",
    "#want to make DSF data long form, easier to deal with that way\n",
    "DSF_data_long = DSF_data_wide.melt( var_name=\"Well\", value_name=\"RFU\", ignore_index=False).reset_index()\n",
    "\n",
    "\n",
    "###############\n",
    "\n",
    "\n",
    "#Convert RFU Derivative data to long-form:\n",
    "\n",
    "#change index to temperature column\n",
    "DSF_nDeriv_index = DSF_neg_derivative.set_index('Temperature')\n",
    "\n",
    "#file exported from qPCR machine includes a blank column, use this to delete it\n",
    "DSF_nDeriv_wide = DSF_nDeriv_index.drop(columns='Unnamed: 0')\n",
    "\n",
    "#data from qPCR machine is negative, we want the positive derivatives\n",
    "#multiplvalues except for index by -1 to get the derivatives\n",
    "DSF_deriv_wide = DSF_nDeriv_wide.mul(-1)\n",
    "\n",
    "#want to make DSF data long form, easier to deal with that way\n",
    "DSF_deriv_long = DSF_deriv_wide.melt( var_name=\"Well\", value_name=\"dRFU\", ignore_index=False).reset_index()\n",
    "\n",
    "\n",
    "###############\n",
    "\n",
    "\n",
    "#make 1 dataframe with all the experimental info together\n",
    "\n",
    "#first add dRFU data to RFU dataframe\n",
    "DSF_RFU_dRFU = pd.concat([DSF_data_long, DSF_deriv_long['dRFU']], axis=1)\n",
    "\n",
    "\n",
    "###############\n",
    "\n",
    "\n",
    "#next calculate and make columns for normalized RFU and dRFU data\n",
    "\n",
    "#normalize RFU first:\n",
    "#find max value of RFU for each well\n",
    "RFU_max = DSF_RFU_dRFU.groupby(\"Well\")['RFU'].agg('max')\n",
    "#make a new column called norm_RFU, fill values by dividing RFU by the max RFU of each well\n",
    "DSF_RFU_dRFU[\"norm_RFU\"] = DSF_RFU_dRFU[\"RFU\"]/DSF_RFU_dRFU[\"Well\"].map(RFU_max)\n",
    "\n",
    "#next normalize dRFU, same way as we did for RFU\n",
    "dRFU_max = DSF_RFU_dRFU.groupby(\"Well\")['dRFU'].agg('max')\n",
    "DSF_RFU_dRFU[\"norm_dRFU\"] = DSF_RFU_dRFU[\"dRFU\"]/DSF_RFU_dRFU[\"Well\"].map(dRFU_max)\n",
    "\n",
    "\n",
    "###############\n",
    "\n",
    "\n",
    "#Now we want to add the buffer conditions onto all the data points of the corresponding well\n",
    "DSF_RFU_dRFU_buffers = DSF_RFU_dRFU.join(buffers.set_index('Well'), on='Well')\n",
    "\n",
    "#Un-comment the following line to check on your resulting dataframe\n",
    "#print(DSF_RFU_dRFU_buffers)\n",
    "\n",
    "#Save dataframe to file:\n",
    "DSF_RFU_dRFU_buffers.to_csv(result_filename)\n"
   ]
  },
  {
   "cell_type": "markdown",
   "metadata": {},
   "source": [
    "Now that larger dataframe is put together, we can get to plotting the data.\n",
    "<br> Plot raw RFU data to check that everything looks correctly put together:"
   ]
  },
  {
   "cell_type": "code",
   "execution_count": null,
   "metadata": {},
   "outputs": [],
   "source": [
    "#Plot derivativess for all wells, color lines by well:\n",
    "\n",
    "#If you did half of your samples with buffer blanks and half with protein samples, set pallete to something diverging like \"coolwarm\" so you can distinguish blanks from samples\n",
    "#If no buffer blanks, set palette to something like \"flare\" or \"crest\" to distinguish lines without colors being too jarring\n",
    "palette_name = \"coolwarm_r\"\n",
    "\n",
    "\n",
    "########################\n",
    "\n",
    "\n",
    "g = sns.lineplot(data=DSF_RFU_dRFU_buffers, x=\"Temperature\", y=\"dRFU\", hue=\"Well\", legend=False, palette=palette_name)\n",
    "g.set(title=\"RFU derivatives for all wells\");"
   ]
  },
  {
   "cell_type": "markdown",
   "metadata": {},
   "source": [
    "Some experiments will include a set of buffer blanks. It's good practice to check these to make sure there are no peaks, if they look relatively flat then we don't want to include them in our plots.\n",
    "<br>Use the next cell to make a new dataframe that does not include the buffer blanks.\n",
    "<br>If no buffer blanks were used in the experiment, skip this step"
   ]
  },
  {
   "cell_type": "code",
   "execution_count": null,
   "metadata": {},
   "outputs": [],
   "source": [
    "#Make a new dataframe with rows that contain only protein samples\n",
    "\n",
    "DSF_RFU_protein = DSF_RFU_dRFU_buffers.query(\"protein_mgmL != 0\").copy()\n",
    "g = sns.lineplot(data=DSF_RFU_protein, x=\"Temperature\", y=\"dRFU\", hue=\"Well\", legend=False, palette =\"flare\")\n",
    "g.set(title=\"RFU derivatives for wells containing protein samples\");"
   ]
  },
  {
   "cell_type": "markdown",
   "metadata": {},
   "source": [
    "Next we can plot a subset of our normalized dRFU data by specifying the condition we are interested and coloring the plots according to any variations within that condition \n",
    "<br> For example we can plot all the norm_dRFU peaks for a specific buffer and color-code by pH variation\n",
    "<br> To make multiple plots, copy paste following cell into a new code block and add your new parameters"
   ]
  },
  {
   "cell_type": "code",
   "execution_count": null,
   "metadata": {},
   "outputs": [],
   "source": [
    "#First we choose the dataframe we want to pull our data from\n",
    "#for original dataframe, use DSF_RFU_dRFU_buffers\n",
    "#for dataframe without buffer blanks, use DSF_RFU_protein\n",
    "source_df = DSF_RFU_protein\n",
    "\n",
    "#next we select our condition we are interested in\n",
    "sel_condition = \"ion =='CaCl2'\"\n",
    "\n",
    "#choose how you want to color the graphs. \n",
    "#if not varying a specific condition, put \"Well\" here\n",
    "variation = \"ion_mM\"\n",
    "\n",
    "#set palette to color data \n",
    "#to reverse palette add _r to the end of the palette's name (ie \"flare\" vs. \"flare_r\")\n",
    "palette_name = \"flare\"\n",
    "\n",
    "#set lower and upper bounds for x axis to zoom in to region of interest\n",
    "x_min = 40\n",
    "x_max = 70\n",
    "\n",
    "#give a title to your graph:\n",
    "graph_title = \"Normalized RFU derivatives, CaCl2\"\n",
    "\n",
    "\n",
    "#############\n",
    "\n",
    "\n",
    "#make a new dataframe that contains a subset of data from our big dataframe\n",
    "new_df = source_df.query(sel_condition).copy()\n",
    "\n",
    "#plot lineplot\n",
    "g = sns.lineplot(data=new_df, x=\"Temperature\", y=\"norm_dRFU\", hue=variation, palette=palette_name)\n",
    "g.axes.set_xlim(x_min,x_max);\n",
    "g.set(title=graph_title);"
   ]
  },
  {
   "cell_type": "markdown",
   "metadata": {},
   "source": [
    "We often do melt curves for a range of conditions, and we want to see if there are any trends in how the temperature at which the melt curve peak occurs changes as the condition varies.\n",
    "<br>Here we find the max value of the d_RFU dataset (a rough proxy for the peak - note it doesn't always work for all datasets if there is not a clean single peak above background),\n",
    "<br>Then we make a dataframe with the conditions we are interested in that correspond with each peak's temperature\n",
    "<br>Then we make a plot with the following parameters:\n",
    "- y_axis: temperature at which melt curve peaks\n",
    "- x_axis: value of the condition you are varying (i.e. ion concentration or pH)\n",
    "- color: name of condition you are varying (i.e. ion name or buffer name)"
   ]
  },
  {
   "cell_type": "code",
   "execution_count": null,
   "metadata": {},
   "outputs": [],
   "source": [
    "#Plot the max norm_dRFU vs. a condition of your choice \n",
    "#Enter dataframe to be used for plotting, condition you are varying, and a title for resulting plot here:\n",
    "\n",
    "#the dataframe you want to pull your data from - could be a subset of the data or the whole thing\n",
    "df_start = DSF_RFU_protein\n",
    "\n",
    "#Choose the condition you want to plot against the max norm_dRFU temperature, could be ion concentration or pH\n",
    "#must be a value\n",
    "condition = \"ion_mM\"\n",
    "\n",
    "#Add another label to identify your sample, could be buffer or ion name\n",
    "#must be a string\n",
    "label = \"ion\"\n",
    "\n",
    "#Add title for resulting plot here:\n",
    "plot_title = \"Peak melt temps over ion concentration\"\n",
    "\n",
    "\n",
    "###########################\n",
    "\n",
    "\n",
    "#find the temperatures at which the max norm_dRFU occurs\n",
    "DSF_Temperature_Index = df_start.set_index('Temperature')\n",
    "norm_dRFU_max_temp = DSF_Temperature_Index.groupby(\"Well\")[\"norm_dRFU\"].idxmax()\n",
    "\n",
    "#get the condition specified for each well\n",
    "well_condition = df_start.groupby(\"Well\")[condition].max()\n",
    "\n",
    "#Combine pH and temp data into one dataframe\n",
    "norm_dRFU_max_temp_df = norm_dRFU_max_temp.to_frame('Temperature').reset_index()\n",
    "well_condition_df = well_condition.to_frame(condition).reset_index()\n",
    "temp_condition_combined_df = pd.concat([well_condition_df, norm_dRFU_max_temp_df['Temperature']], axis=1)\n",
    "\n",
    "#Adding label specified earlier to the dataframe (buffer, ion, etc.)\n",
    "label_df = df_start[['Well', label]].drop_duplicates().reset_index()\n",
    "\n",
    "#concat label to the temperature and condition dataframe\n",
    "temp_condition_label_df = pd.concat([temp_condition_combined_df, label_df[label]], axis=1)\n",
    "\n",
    "#Un-comment following line to check on final dataframe used to make the plot\n",
    "#print(temp_condition_label_df)\n",
    "\n",
    "#plot results\n",
    "ax = sns.scatterplot(data=temp_condition_label_df, x=condition, y='Temperature', hue=label)\n",
    "ax = sns.lineplot(data=temp_condition_label_df, x=condition, y='Temperature', hue=label, alpha=0.4, legend=False)\n",
    "sns.move_legend(ax, \"upper left\", bbox_to_anchor=(1, 1))\n",
    "ax.set(title=plot_title);"
   ]
  }
 ],
 "metadata": {
  "kernelspec": {
   "display_name": "Python 3",
   "language": "python",
   "name": "python3"
  },
  "language_info": {
   "codemirror_mode": {
    "name": "ipython",
    "version": 3
   },
   "file_extension": ".py",
   "mimetype": "text/x-python",
   "name": "python",
   "nbconvert_exporter": "python",
   "pygments_lexer": "ipython3",
   "version": "3.12.2"
  }
 },
 "nbformat": 4,
 "nbformat_minor": 2
}
